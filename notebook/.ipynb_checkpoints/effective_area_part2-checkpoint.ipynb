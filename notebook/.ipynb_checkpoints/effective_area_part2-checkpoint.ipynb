{
 "cells": [
  {
   "cell_type": "code",
   "execution_count": 1,
   "metadata": {},
   "outputs": [],
   "source": [
    "import numpy as np\n",
    "from glob import glob as glob\n",
    "import h5py\n",
    "import inspect\n",
    "import astropy\n",
    "import matplotlib.pyplot as plt\n",
    "from skylab.datasets import Datasets\n",
    "import skylab.datasets\n",
    "from matplotlib.colors import LogNorm\n",
    "import os\n",
    "%matplotlib inline\n",
    "\n",
    "import matplotlib as mpl\n",
    "mpl.rcParams['text.usetex'] = True\n",
    "mpl.rcParams['text.latex.unicode'] = True\n",
    "mpl.rcParams['mathtext.rm'] = 'Times New Roman'\n",
    "mpl.rcParams['mathtext.it'] = 'Times New Roman:italic'\n",
    "mpl.rcParams['mathtext.bf'] = 'Times New Roman:bold'\n",
    "\n",
    "mpl.rc('font', family='serif', size=12)\n",
    "mpl.rcParams['xtick.labelsize'] = 16\n",
    "mpl.rcParams['ytick.labelsize'] = 16\n",
    "mpl.rcParams['xtick.major.size'] = 5\n",
    "mpl.rcParams['ytick.major.size'] = 5"
   ]
  },
  {
   "cell_type": "code",
   "execution_count": 2,
   "metadata": {},
   "outputs": [],
   "source": [
    "import sys\n",
    "sys.path.insert(1, '/home/apizzuto/Nova/scripts/')\n",
    "from Novae import Nova"
   ]
  },
  {
   "cell_type": "code",
   "execution_count": null,
   "metadata": {},
   "outputs": [],
   "source": []
  },
  {
   "cell_type": "code",
   "execution_count": 3,
   "metadata": {},
   "outputs": [
    {
     "name": "stdout",
     "output_type": "stream",
     "text": [
      "hi there\n",
      "Was not able to import icecube.astro cannot use detector coordinates\n"
     ]
    }
   ],
   "source": [
    "nov = Nova('testboi', -2.0, 0., 0., 58484.0, 30., cutoff=10)"
   ]
  },
  {
   "cell_type": "code",
   "execution_count": 4,
   "metadata": {},
   "outputs": [],
   "source": [
    "mc = np.load('/data/user/mlarson/combo_r129072/skylab/scripts/testing/GRECO/version-001-p00/IC86_2012_mc.npy')"
   ]
  },
  {
   "cell_type": "code",
   "execution_count": 5,
   "metadata": {
    "scrolled": false
   },
   "outputs": [
    {
     "name": "stdout",
     "output_type": "stream",
     "text": [
      "[1.15912837e+00 1.52802878e+00 2.01433424e+00 2.65540969e+00\n",
      " 3.50051171e+00 4.61457315e+00 6.08319216e+00 8.01920905e+00\n",
      " 1.05713764e+01 1.39357881e+01 1.83709466e+01 2.42176242e+01\n",
      " 3.19250463e+01 4.20854074e+01 5.54793718e+01 7.31360558e+01\n",
      " 9.64120984e+01 1.27095898e+02 1.67545024e+02 2.20867357e+02\n",
      " 2.91159882e+02 3.83823477e+02 5.05977885e+02 6.67008756e+02\n",
      " 8.79288788e+02 1.15912837e+03 1.52802878e+03 2.01433424e+03\n",
      " 2.65540969e+03 3.50051171e+03 4.61457315e+03 6.08319216e+03\n",
      " 8.01920905e+03 1.05713764e+04 1.39357881e+04 1.83709466e+04\n",
      " 2.42176242e+04 3.19250463e+04 4.20854074e+04 5.54793718e+04\n",
      " 7.31360558e+04 9.64120984e+04 1.27095898e+05 1.67545024e+05\n",
      " 2.20867357e+05 2.91159882e+05 3.83823477e+05 5.05977885e+05\n",
      " 6.67008756e+05 8.79288788e+05]\n",
      "[ 1  2  3  4  5  6  7  8  9 10 11 12 13 14 15 16 17 18 19 20 21 22 23 24\n",
      " 25 26 27 28 29 30 31 32 33 34 35 36 37 38 39 40 41 42 43 44 45 46 47 48\n",
      " 49 50]\n",
      "[3.27648698e-10 1.20770238e-09 5.43786551e-09 9.68518923e-09\n",
      " 2.04311590e-08 4.41843473e-08 9.27852972e-08 2.14754934e-07\n",
      " 3.93759446e-07 7.78846694e-07 1.36946568e-06 2.21460801e-06\n",
      " 3.85625731e-06 6.42691661e-06 1.01967907e-05 1.51722121e-05\n",
      " 2.18929714e-05 3.26618178e-05 4.81379536e-05 6.11851144e-05\n",
      " 8.20001181e-05 1.05836813e-04 1.42824757e-04 1.74744540e-04\n",
      " 2.25182658e-04 2.72040415e-04 3.41668029e-04 4.24015600e-04\n",
      " 4.99624437e-04 5.72838566e-04 7.26988664e-04 8.39076909e-04\n",
      " 8.49782096e-04 9.94872916e-04 1.16542156e-03 1.54477780e-03\n",
      " 1.16302621e-03 1.76484691e-03 2.06810649e-03 2.39228750e-03\n",
      " 1.44301631e-03 3.61458993e-03 3.83476135e-03 2.15064552e-03\n",
      " 4.44874404e-03 2.67911588e-03 3.79103734e-03 2.24512184e-03\n",
      " 1.53510996e-02 4.80269454e-03]\n",
      "[ 2  4  6  8 10 12 14 16 18 20 22 24 26 28 30 32 34 36 38 40 42 44 46 48\n",
      " 50 51 51 51 51 51 51 51 51 51 51 51 51 51 51 51 51 51 51 51 51 51 51 51\n",
      " 51 51]\n",
      "[1.00000000e+00 3.00000000e+00 5.00000000e+00 7.00000000e+00\n",
      " 9.00000000e+00 1.10000000e+01 1.30000000e+01 1.50000000e+01\n",
      " 1.70000000e+01 1.90000000e+01 2.10000000e+01 2.30000000e+01\n",
      " 2.50000000e+01 2.70000000e+01 2.90000000e+01 3.10000000e+01\n",
      " 3.30000000e+01 3.50000000e+01 3.70000000e+01 3.90000000e+01\n",
      " 4.10000000e+01 4.30000000e+01 4.50000000e+01 4.70000000e+01\n",
      " 4.90000000e+01 4.80269454e-03 4.80269454e-03 4.80269454e-03\n",
      " 4.80269454e-03 4.80269454e-03 4.80269454e-03 4.80269454e-03\n",
      " 4.80269454e-03 4.80269454e-03 4.80269454e-03 4.80269454e-03\n",
      " 4.80269454e-03 4.80269454e-03 4.80269454e-03 4.80269454e-03\n",
      " 4.80269454e-03 4.80269454e-03 4.80269454e-03 4.80269454e-03\n",
      " 4.80269454e-03 4.80269454e-03 4.80269454e-03 4.80269454e-03\n",
      " 4.80269454e-03 4.80269454e-03]\n",
      "[ 2  4  6  8 10 12 14 16 18 20 22 24 26 28 30 32 34 36 38 40 42 44 46 48\n",
      " 50 51 51 51 51 51 51 51 51 51 51 51 51 51 51 51 51 51 51 51 51 51 51 51\n",
      " 51 51]\n",
      "[1.15912837e+00 1.52802878e+00 2.01433424e+00 2.65540969e+00\n",
      " 3.50051171e+00 4.61457315e+00 6.08319216e+00 8.01920905e+00\n",
      " 1.05713764e+01 1.39357881e+01 1.83709466e+01 2.42176242e+01\n",
      " 3.19250463e+01 4.20854074e+01 5.54793718e+01 7.31360558e+01\n",
      " 9.64120984e+01 1.27095898e+02 1.67545024e+02 2.20867357e+02\n",
      " 2.91159882e+02 3.83823477e+02 5.05977885e+02 6.67008756e+02\n",
      " 8.79288788e+02 1.15912837e+03 1.52802878e+03 2.01433424e+03\n",
      " 2.65540969e+03 3.50051171e+03 4.61457315e+03 6.08319216e+03\n",
      " 8.01920905e+03 1.05713764e+04 1.39357881e+04 1.83709466e+04\n",
      " 2.42176242e+04 3.19250463e+04 4.20854074e+04 5.54793718e+04\n",
      " 7.31360558e+04 9.64120984e+04 1.27095898e+05 1.67545024e+05\n",
      " 2.20867357e+05 2.91159882e+05 3.83823477e+05 5.05977885e+05\n",
      " 6.67008756e+05 8.79288788e+05]\n",
      "[ 1  2  3  4  5  6  7  8  9 10 11 12 13 14 15 16 17 18 19 20 21 22 23 24\n",
      " 25 26 27 28 29 30 31 32 33 34 35 36 37 38 39 40 41 42 43 44 45 46 47 48\n",
      " 49 50]\n",
      "[3.27648698e-10 1.20770238e-09 5.43786551e-09 9.68518923e-09\n",
      " 2.04311590e-08 4.41843473e-08 9.27852972e-08 2.14754934e-07\n",
      " 3.93759446e-07 7.78846694e-07 1.36946568e-06 2.21460801e-06\n",
      " 3.85625731e-06 6.42691661e-06 1.01967907e-05 1.51722121e-05\n",
      " 2.18929714e-05 3.26618178e-05 4.81379536e-05 6.11851144e-05\n",
      " 8.20001181e-05 1.05836813e-04 1.42824757e-04 1.74744540e-04\n",
      " 2.25182658e-04 2.72040415e-04 3.41668029e-04 4.24015600e-04\n",
      " 4.99624437e-04 5.72838566e-04 7.26988664e-04 8.39076909e-04\n",
      " 8.49782096e-04 9.94872916e-04 1.16542156e-03 1.54477780e-03\n",
      " 1.16302621e-03 1.76484691e-03 2.06810649e-03 2.39228750e-03\n",
      " 1.44301631e-03 3.61458993e-03 3.83476135e-03 2.15064552e-03\n",
      " 4.44874404e-03 2.67911588e-03 3.79103734e-03 2.24512184e-03\n",
      " 1.53510996e-02 4.80269454e-03]\n",
      "[ 2  4  6  8 10 12 14 16 18 20 22 24 26 28 30 32 34 36 38 40 42 44 46 48\n",
      " 50 51 51 51 51 51 51 51 51 51 51 51 51 51 51 51 51 51 51 51 51 51 51 51\n",
      " 51 51]\n",
      "[1.00000000e+00 3.00000000e+00 5.00000000e+00 7.00000000e+00\n",
      " 9.00000000e+00 1.10000000e+01 1.30000000e+01 1.50000000e+01\n",
      " 1.70000000e+01 1.90000000e+01 2.10000000e+01 2.30000000e+01\n",
      " 2.50000000e+01 2.70000000e+01 2.90000000e+01 3.10000000e+01\n",
      " 3.30000000e+01 3.50000000e+01 3.70000000e+01 3.90000000e+01\n",
      " 4.10000000e+01 4.30000000e+01 4.50000000e+01 4.70000000e+01\n",
      " 4.90000000e+01 4.80269454e-03 4.80269454e-03 4.80269454e-03\n",
      " 4.80269454e-03 4.80269454e-03 4.80269454e-03 4.80269454e-03\n",
      " 4.80269454e-03 4.80269454e-03 4.80269454e-03 4.80269454e-03\n",
      " 4.80269454e-03 4.80269454e-03 4.80269454e-03 4.80269454e-03\n",
      " 4.80269454e-03 4.80269454e-03 4.80269454e-03 4.80269454e-03\n",
      " 4.80269454e-03 4.80269454e-03 4.80269454e-03 4.80269454e-03\n",
      " 4.80269454e-03 4.80269454e-03]\n",
      "[ 2  4  6  8 10 12 14 16 18 20 22 24 26 28 30 32 34 36 38 40 42 44 46 48\n",
      " 50 51 51 51 51 51 51 51 51 51 51 51 51 51 51 51 51 51 51 51 51 51 51 51\n",
      " 51 51]\n",
      "4.439940849156379 112.25685705583899\n"
     ]
    },
    {
     "data": {
      "image/png": "[encoded data removed]",
      "text/plain": [
       "<Figure size 432x288 with 1 Axes>"
      ]
     },
     "metadata": {
      "needs_background": "light"
     },
     "output_type": "display_data"
    }
   ],
   "source": [
    "a, b = nov.calc_expected_signal(mc)\n",
    "c, d = nov.calc_expected_signal(mc, cutoff = False)\n",
    "\n",
    "plt.step(a, b, where = 'mid')\n",
    "plt.step(c, d, where = 'mid')\n",
    "plt.xscale('log')\n",
    "plt.yscale('log')\n",
    "plt.ylim(1e-8, 1e3)\n",
    "print(np.sum(b)),\n",
    "print(np.sum(d))"
   ]
  },
  {
   "cell_type": "code",
   "execution_count": 6,
   "metadata": {},
   "outputs": [
    {
     "data": {
      "text/plain": [
       "('run',\n",
       " 'event',\n",
       " 'subevent',\n",
       " 'time',\n",
       " 'ra',\n",
       " 'dec',\n",
       " 'azi',\n",
       " 'zen',\n",
       " 'angErr',\n",
       " 'logE',\n",
       " 'trueE',\n",
       " 'trueRa',\n",
       " 'trueDec',\n",
       " 'ow')"
      ]
     },
     "execution_count": 6,
     "metadata": {},
     "output_type": "execute_result"
    }
   ],
   "source": [
    "mc.dtype.names"
   ]
  },
  {
   "cell_type": "code",
   "execution_count": 7,
   "metadata": {},
   "outputs": [
    {
     "ename": "UnicodeDecodeError",
     "evalue": "'ascii' codec can't decode byte 0xf0 in position 30: ordinal not in range(128)",
     "output_type": "error",
     "traceback": [
      "\u001b[0;31m---------------------------------------------------------------------------\u001b[0m",
      "\u001b[0;31mUnicodeDecodeError\u001b[0m                        Traceback (most recent call last)",
      "\u001b[0;32m<ipython-input-7-6aae9f1a4b9d>\u001b[0m in \u001b[0;36m<module>\u001b[0;34m()\u001b[0m\n\u001b[0;32m----> 1\u001b[0;31m \u001b[0mos\u001b[0m\u001b[0;34m.\u001b[0m\u001b[0mpath\u001b[0m\u001b[0;34m.\u001b[0m\u001b[0misfile\u001b[0m\u001b[0;34m(\u001b[0m\u001b[0mmc\u001b[0m\u001b[0;34m)\u001b[0m\u001b[0;34m\u001b[0m\u001b[0m\n\u001b[0m",
      "\u001b[0;32m/home/apizzuto/.venvs/nova/lib/python2.7/genericpath.pyc\u001b[0m in \u001b[0;36misfile\u001b[0;34m(path)\u001b[0m\n\u001b[1;32m     35\u001b[0m     \u001b[0;34m\"\"\"Test whether a path is a regular file\"\"\"\u001b[0m\u001b[0;34m\u001b[0m\u001b[0m\n\u001b[1;32m     36\u001b[0m     \u001b[0;32mtry\u001b[0m\u001b[0;34m:\u001b[0m\u001b[0;34m\u001b[0m\u001b[0m\n\u001b[0;32m---> 37\u001b[0;31m         \u001b[0mst\u001b[0m \u001b[0;34m=\u001b[0m \u001b[0mos\u001b[0m\u001b[0;34m.\u001b[0m\u001b[0mstat\u001b[0m\u001b[0;34m(\u001b[0m\u001b[0mpath\u001b[0m\u001b[0;34m)\u001b[0m\u001b[0;34m\u001b[0m\u001b[0m\n\u001b[0m\u001b[1;32m     38\u001b[0m     \u001b[0;32mexcept\u001b[0m \u001b[0mos\u001b[0m\u001b[0;34m.\u001b[0m\u001b[0merror\u001b[0m\u001b[0;34m:\u001b[0m\u001b[0;34m\u001b[0m\u001b[0m\n\u001b[1;32m     39\u001b[0m         \u001b[0;32mreturn\u001b[0m \u001b[0mFalse\u001b[0m\u001b[0;34m\u001b[0m\u001b[0m\n",
      "\u001b[0;31mUnicodeDecodeError\u001b[0m: 'ascii' codec can't decode byte 0xf0 in position 30: ordinal not in range(128)"
     ]
    }
   ],
   "source": [
    "os.path.isfile(mc)"
   ]
  },
  {
   "cell_type": "code",
   "execution_count": 11,
   "metadata": {},
   "outputs": [
    {
     "ename": "AttributeError",
     "evalue": "Nova instance has no attribute 'name'",
     "output_type": "error",
     "traceback": [
      "\u001b[0;31m---------------------------------------------------------------------------\u001b[0m",
      "\u001b[0;31mAttributeError\u001b[0m                            Traceback (most recent call last)",
      "\u001b[0;32m<ipython-input-11-9de520dda864>\u001b[0m in \u001b[0;36m<module>\u001b[0;34m()\u001b[0m\n\u001b[0;32m----> 1\u001b[0;31m \u001b[0mnov\u001b[0m\u001b[0;34m.\u001b[0m\u001b[0mname\u001b[0m\u001b[0;34m\u001b[0m\u001b[0m\n\u001b[0m",
      "\u001b[0;31mAttributeError\u001b[0m: Nova instance has no attribute 'name'"
     ]
    }
   ],
   "source": [
    "nov.name"
   ]
  },
  {
   "cell_type": "code",
   "execution_count": null,
   "metadata": {},
   "outputs": [],
   "source": []
  },
  {
   "cell_type": "code",
   "execution_count": 38,
   "metadata": {},
   "outputs": [],
   "source": [
    "exp, mc, livetime = ds.season(\"IC86, 2015\")"
   ]
  },
  {
   "cell_type": "code",
   "execution_count": 49,
   "metadata": {},
   "outputs": [
    {
     "data": {
      "text/plain": [
       "array([1.24833580e+02, 9.33104147e+02, 7.44174855e+03, ...,\n",
       "       7.47502723e+08, 1.66637041e+07, 2.20427682e+07])"
      ]
     },
     "execution_count": 49,
     "metadata": {},
     "output_type": "execute_result"
    }
   ],
   "source": [
    "mc['trueE']"
   ]
  },
  {
   "cell_type": "code",
   "execution_count": 50,
   "metadata": {},
   "outputs": [
    {
     "data": {
      "text/plain": [
       "('run',\n",
       " 'event',\n",
       " 'subevent',\n",
       " 'time',\n",
       " 'azimuth',\n",
       " 'zenith',\n",
       " 'ra',\n",
       " 'dec',\n",
       " 'sigma',\n",
       " 'logE',\n",
       " 'trueAzi',\n",
       " 'trueZen',\n",
       " 'trueRa',\n",
       " 'trueDec',\n",
       " 'trueE',\n",
       " 'ow',\n",
       " 'bdtScore')"
      ]
     },
     "execution_count": 50,
     "metadata": {},
     "output_type": "execute_result"
    }
   ],
   "source": [
    "mc.dtype.names"
   ]
  },
  {
   "cell_type": "code",
   "execution_count": 32,
   "metadata": {},
   "outputs": [
    {
     "data": {
      "text/plain": [
       "True"
      ]
     },
     "execution_count": 32,
     "metadata": {},
     "output_type": "execute_result"
    }
   ],
   "source": [
    "str(type(ds)).startswith(\"<class 'skylab.data\")"
   ]
  },
  {
   "cell_type": "code",
   "execution_count": 29,
   "metadata": {},
   "outputs": [
    {
     "data": {
      "text/plain": [
       "\"<class 'skylab.datasets.GFUOnline_v001p00.GFUOnlineDataset'>\""
      ]
     },
     "execution_count": 29,
     "metadata": {},
     "output_type": "execute_result"
    }
   ],
   "source": [
    "str(type(ds))"
   ]
  },
  {
   "cell_type": "code",
   "execution_count": 3,
   "metadata": {},
   "outputs": [],
   "source": [
    "data = np.load('/data/user/mlarson/combo_r129072/skylab/scripts/testing/GRECO/version-001-p00/IC86_2012_data.npy')\n",
    "mc = np.load('/data/user/mlarson/combo_r129072/skylab/scripts/testing/GRECO/version-001-p00/IC86_2012_mc.npy')\n",
    "grl = np.load('/data/user/mlarson/combo_r129072/skylab/scripts/testing/GRECO/version-001-p00/GRL/IC86_2012_data.npy')"
   ]
  },
  {
   "cell_type": "code",
   "execution_count": 4,
   "metadata": {},
   "outputs": [
    {
     "data": {
      "text/plain": [
       "Text(0,0.5,'$A_{eff}$')"
      ]
     },
     "execution_count": 4,
     "metadata": {},
     "output_type": "execute_result"
    },
    {
     "data": {
      "image/png": "[encoded data removed]",
      "text/plain": [
       "<Figure size 432x288 with 1 Axes>"
      ]
     },
     "metadata": {
      "needs_background": "light"
     },
     "output_type": "display_data"
    }
   ],
   "source": [
    "omega = 4. * np.pi\n",
    "E_bins = np.logspace(0., 3., 31)\n",
    "logE_bins = np.log10(E_bins)\n",
    "dlog_E = np.diff(logE_bins)\n",
    "weights = mc['ow'] / (1e4 * mc['trueE'] * dlog_E[np.digitize(np.log10(mc['trueE']), bins = logE_bins) -1] * omega * np.log(10.))\n",
    "plt.hist(mc['trueE'], weights = weights, bins = E_bins, histtype = 'step', linewidth = 4.)\n",
    "plt.loglog()\n",
    "plt.xlabel(r'$E_{\\nu}$', fontsize = 20)\n",
    "plt.ylabel(r'$A_{eff}$', fontsize = 20)"
   ]
  },
  {
   "cell_type": "code",
   "execution_count": 5,
   "metadata": {},
   "outputs": [
    {
     "data": {
      "image/png": "[encoded data removed]",
      "text/plain": [
       "<Figure size 432x288 with 1 Axes>"
      ]
     },
     "metadata": {
      "needs_background": "light"
     },
     "output_type": "display_data"
    }
   ],
   "source": [
    "cz_bins = np.linspace(-1., 1., 5)\n",
    "d_omega = 2. * np.pi * np.diff(cz_bins)\n",
    "E_bins = np.logspace(0., 3., 31)\n",
    "logE_bins = np.log10(E_bins)\n",
    "dlog_E = np.diff(logE_bins)\n",
    "for jj, (cb1, cb2) in enumerate(zip(cz_bins[:-1], cz_bins[1:])):\n",
    "    mz = np.cos(mc['zen']) > cb1\n",
    "    mz *= np.cos(mc['zen']) < cb2\n",
    "    weights = mc['ow'][mz] / (1e4 * mc['trueE'][mz] * dlog_E[np.digitize(np.log10(mc['trueE'][mz]), bins = logE_bins) -1] * d_omega[jj] * np.log(10.))\n",
    "    plt.hist(mc['trueE'][mz], weights = weights, bins = E_bins, \n",
    "             histtype = 'step', linewidth = 2.5, label = \"\")\n",
    "plt.loglog()\n",
    "plt.xlabel(r'$E_{\\nu}$', fontsize = 20)\n",
    "plt.ylabel(r'$A_{eff}$', fontsize = 20)\n",
    "plt.show()"
   ]
  },
  {
   "cell_type": "code",
   "execution_count": 92,
   "metadata": {},
   "outputs": [
    {
     "data": {
      "image/png": "[encoded data removed]",
      "text/plain": [
       "<Figure size 432x288 with 1 Axes>"
      ]
     },
     "metadata": {
      "needs_background": "light"
     },
     "output_type": "display_data"
    }
   ],
   "source": [
    "plt.hist(mc['ra'], bins = np.linspace(0., 2*np.pi, 20), histtype='step')\n",
    "plt.hist(mc['trueRa'], bins = np.linspace(0., 2*np.pi, 20), histtype='step')\n",
    "\n",
    "plt.show()"
   ]
  },
  {
   "cell_type": "code",
   "execution_count": 93,
   "metadata": {},
   "outputs": [
    {
     "data": {
      "image/png": "[encoded data removed]",
      "text/plain": [
       "<Figure size 432x288 with 1 Axes>"
      ]
     },
     "metadata": {
      "needs_background": "light"
     },
     "output_type": "display_data"
    }
   ],
   "source": [
    "plt.hist(mc['dec'], bins = np.linspace(-np.pi / 2., np.pi/2., 20), histtype='step')\n",
    "plt.hist(mc['trueDec'], bins = np.linspace(-np.pi / 2., np.pi/2., 20), histtype='step')\n",
    "\n",
    "plt.show()"
   ]
  },
  {
   "cell_type": "code",
   "execution_count": 75,
   "metadata": {},
   "outputs": [
    {
     "data": {
      "text/plain": [
       "[]"
      ]
     },
     "execution_count": 75,
     "metadata": {},
     "output_type": "execute_result"
    },
    {
     "data": {
      "image/png": "[encoded data removed]",
      "text/plain": [
       "<Figure size 432x288 with 1 Axes>"
      ]
     },
     "metadata": {
      "needs_background": "light"
     },
     "output_type": "display_data"
    }
   ],
   "source": [
    "plt.hist(mc['trueE'], weights = weights, bins = E_bins, histtype = 'step', linewidth = 4.)\n",
    "plt.loglog()"
   ]
  },
  {
   "cell_type": "code",
   "execution_count": 76,
   "metadata": {},
   "outputs": [
    {
     "data": {
      "text/plain": [
       "array([(12640, 1, 1, 1., 0.12958934,  0.98083298, 0.12958934, 0.58996334, 2.0943951, 1.02082786,  3.6862545 , 5.66582003,  0.62122191, 3.10329384e-06),\n",
       "       (12640, 1, 1, 1., 0.58225176, -0.02828754, 0.58225176, 1.59908386, 2.0943951, 0.34635297,  3.94487443, 5.75016876,  0.06524964, 4.28948724e-06),\n",
       "       (12640, 1, 1, 1., 0.50864295, -0.72686712, 0.50864295, 2.29766345, 2.0943951, 0.58806073,  2.18886908, 5.86928344, -1.33029228, 8.02032820e-07),\n",
       "       ...,\n",
       "       (16640, 1, 1, 1., 0.12640035, -0.92888683, 0.12640035, 2.49968315, 2.0943951, 1.47317855, 31.14773078, 1.38744935, -1.35978463, 1.86443733e-03),\n",
       "       (16640, 1, 1, 1., 3.69769791,  0.47152365, 3.69769791, 1.09927267, 2.0943951, 1.19877272, 54.98433078, 0.25899604, -0.18916696, 2.10231955e-02),\n",
       "       (16640, 1, 1, 1., 2.71329058, -0.85143268, 2.71329058, 2.422229  , 2.0943951, 1.58043401, 60.37949968, 5.55037186, -1.00492439, 4.03228547e-02)],\n",
       "      dtype=[('run', '<i8'), ('event', '<i8'), ('subevent', '<i8'), ('time', '<f8'), ('ra', '<f8'), ('dec', '<f8'), ('azi', '<f8'), ('zen', '<f8'), ('angErr', '<f8'), ('logE', '<f8'), ('trueE', '<f8'), ('trueRa', '<f8'), ('trueDec', '<f8'), ('ow', '<f8')])"
      ]
     },
     "execution_count": 76,
     "metadata": {},
     "output_type": "execute_result"
    }
   ],
   "source": [
    "mc"
   ]
  },
  {
   "cell_type": "code",
   "execution_count": 31,
   "metadata": {},
   "outputs": [
    {
     "data": {
      "text/plain": [
       "<matplotlib.collections.PathCollection at 0x7fd8f93f9f50>"
      ]
     },
     "execution_count": 31,
     "metadata": {},
     "output_type": "execute_result"
    },
    {
     "data": {
      "image/png": "[encoded data removed]",
      "text/plain": [
       "<Figure size 432x288 with 1 Axes>"
      ]
     },
     "metadata": {
      "needs_background": "light"
     },
     "output_type": "display_data"
    }
   ],
   "source": [
    "plt.scatter(np.arange(len(mc['trueE'])), mc['trueE'], s = 2)"
   ]
  },
  {
   "cell_type": "code",
   "execution_count": null,
   "metadata": {},
   "outputs": [],
   "source": [
    "plt.hist(mc['trueE'], bins = E_bins, weights = weights)\n",
    "plt.loglog()"
   ]
  },
  {
   "cell_type": "code",
   "execution_count": 9,
   "metadata": {},
   "outputs": [
    {
     "data": {
      "image/png": "[encoded data removed]",
      "text/plain": [
       "<Figure size 432x288 with 1 Axes>"
      ]
     },
     "metadata": {
      "needs_background": "light"
     },
     "output_type": "display_data"
    }
   ],
   "source": [
    "lb = np.linspace(1., 1000., 50)\n",
    "plt.hist(mc['trueE'], bins = lb)\n",
    "plt.yscale('log')"
   ]
  },
  {
   "cell_type": "code",
   "execution_count": 10,
   "metadata": {},
   "outputs": [
    {
     "data": {
      "text/plain": [
       "(array([      0.,       0.,       0.,       0.,       0., 1976521.,\n",
       "              0.,       0.,       0.,       0.]),\n",
       " array([1.5943951, 1.6943951, 1.7943951, 1.8943951, 1.9943951, 2.0943951,\n",
       "        2.1943951, 2.2943951, 2.3943951, 2.4943951, 2.5943951]),\n",
       " <a list of 10 Patch objects>)"
      ]
     },
     "execution_count": 10,
     "metadata": {},
     "output_type": "execute_result"
    },
    {
     "data": {
      "image/png": "[encoded data removed]",
      "text/plain": [
       "<Figure size 432x288 with 1 Axes>"
      ]
     },
     "metadata": {
      "needs_background": "light"
     },
     "output_type": "display_data"
    }
   ],
   "source": [
    "plt.hist(mc['angErr'])"
   ]
  },
  {
   "cell_type": "code",
   "execution_count": 11,
   "metadata": {},
   "outputs": [
    {
     "data": {
      "text/plain": [
       "(array([    0.,     0.,     0.,     0.,     0., 39108.,     0.,     0.,\n",
       "            0.,     0.]),\n",
       " array([1.5943951, 1.6943951, 1.7943951, 1.8943951, 1.9943951, 2.0943951,\n",
       "        2.1943951, 2.2943951, 2.3943951, 2.4943951, 2.5943951]),\n",
       " <a list of 10 Patch objects>)"
      ]
     },
     "execution_count": 11,
     "metadata": {},
     "output_type": "execute_result"
    },
    {
     "data": {
      "image/png": "[encoded data removed]",
      "text/plain": [
       "<Figure size 432x288 with 1 Axes>"
      ]
     },
     "metadata": {
      "needs_background": "light"
     },
     "output_type": "display_data"
    }
   ],
   "source": [
    "plt.hist(data['angErr'])"
   ]
  },
  {
   "cell_type": "code",
   "execution_count": 14,
   "metadata": {},
   "outputs": [
    {
     "data": {
      "text/plain": [
       "99"
      ]
     },
     "execution_count": 14,
     "metadata": {},
     "output_type": "execute_result"
    }
   ],
   "source": [
    "len(np.diff(np.linspace(1., 100, 100)))"
   ]
  },
  {
   "cell_type": "code",
   "execution_count": null,
   "metadata": {},
   "outputs": [],
   "source": []
  }
 ],
 "metadata": {
  "kernelspec": {
   "display_name": "Python 2",
   "language": "python",
   "name": "python2"
  },
  "language_info": {
   "codemirror_mode": {
    "name": "ipython",
    "version": 2
   },
   "file_extension": ".py",
   "mimetype": "text/x-python",
   "name": "python",
   "nbconvert_exporter": "python",
   "pygments_lexer": "ipython2",
   "version": "2.7.13"
  }
 },
 "nbformat": 4,
 "nbformat_minor": 2
}
