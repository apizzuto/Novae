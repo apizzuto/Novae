{
 "cells": [
  {
   "cell_type": "code",
   "execution_count": 2,
   "metadata": {},
   "outputs": [],
   "source": [
    "import numpy as np\n",
    "from skylab.datasets import Dataset\n",
    "#from skylab.datasets.NorthernTracks6yr import NorthernDataset\n",
    "from datetime import datetime\n",
    "import icecube\n",
    "from icecube import astro\n",
    "from astropy.time import Time\n",
    "import datetime as datetime\n",
    "import pandas as pd\n",
    "import pickle\n",
    "import h5py"
   ]
  },
  {
   "cell_type": "code",
   "execution_count": 3,
   "metadata": {},
   "outputs": [],
   "source": [
    "path = '/data/ana/LE/NBI_nutau_appearance/current_pickle_files/current/merged_final/'\n",
    "\n",
    "season_names = ['IC86-II', 'IC86-III', 'IC86-IV', 'IC86-V', 'IC86-VI']\n",
    "\n",
    "outfile = '/data/user/apizzuto/Nova/GRECO_Skylab_Dataset/'"
   ]
  },
  {
   "cell_type": "markdown",
   "metadata": {},
   "source": [
    "## Read in Random Forest parameters and Train on simulation"
   ]
  },
  {
   "cell_type": "code",
   "execution_count": 3,
   "metadata": {},
   "outputs": [
    {
     "name": "stdout",
     "output_type": "stream",
     "text": [
      "[0.]\n",
      "[0. 0. 0. ... 0. 0. 0.]\n"
     ]
    }
   ],
   "source": [
    "SimFiles = FileNames = ['/home/apizzuto/Nova/GRECO_nugen_numu_LE_with_PeglegCasc.h5', \n",
    "                        '/home/apizzuto/Nova/GRECO_nugen_numu_ME_with_PeglegCasc.h5', \n",
    "                        '/home/apizzuto/Nova/GRECO_genie_numu_with_PeglegCascade.h5']\n",
    "NFiles = [4879, 644, 735]\n",
    "\n",
    "def getTruth(neutrinoKey, weightKey):\n",
    "    trueDict = {}\n",
    "    for key in ['energy', 'zenith', 'azimuth', 'type', \n",
    "                'OneWeight', 'NEvents', 'MaxEnergyLog', \n",
    "                'MinEnergyLog', 'OneWeightbyNGen']:\n",
    "        trueDict[key] = np.array([])\n",
    "        \n",
    "    for i in range(3):\n",
    "        f = h5py.File(SimFiles[i], 'r')\n",
    "        for item in ['energy', 'zenith', 'azimuth', 'type']:\n",
    "            trueDict[item] = np.append(trueDict[item], f[neutrinoKey][item])\n",
    "        for item in ['OneWeight', 'NEvents', 'MaxEnergyLog', 'MinEnergyLog']:\n",
    "            trueDict[item] = np.append(trueDict[item], f[weightKey][item])\n",
    "        trueDict['OneWeightbyNGen'] = np.append(trueDict['OneWeightbyNGen'], \n",
    "                                                f[weightKey]['OneWeight'] / (f[weightKey]['NEvents'] * NFiles[i]) )\n",
    "    return trueDict\n",
    "\n",
    "def getRecos(recoName, recoFits):\n",
    "    recoDict = {}\n",
    "    for key in ['energy', 'zenith', 'azimuth',\n",
    "               'logl', 'rlogl']:\n",
    "        recoDict[key] = np.array([])\n",
    "        \n",
    "    recoVars = ['energy', 'zenith', 'azimuth']\n",
    "    recoParams = ['logl', 'rlogl']\n",
    "    \n",
    "    for i in range(3):\n",
    "        f = h5py.File(SimFiles[i], 'r')\n",
    "        for item in recoVars:\n",
    "            recoDict[item] = np.append(recoDict[item], f[recoName][item])\n",
    "        for item in recoParams:\n",
    "            recoDict[item] = np.append(recoDict[item], f[recoFits][item])\n",
    "            \n",
    "    angularSeparation(recoDict, true)\n",
    "    return recoDict\n",
    "\n",
    "def angularSeparation(reco, truth):\n",
    "    reco['angErr'] = np.arccos(np.sin(reco['zenith'])*np.sin(truth['zenith']) +\n",
    "                        (np.cos(reco['zenith']) *np.cos(truth['zenith']) * np.cos(reco['azimuth'] - truth['azimuth'])) ) \n",
    "\n",
    "def maskAllRecos():\n",
    "    mask = np.zeros_like(Pegleg_track['energy'])\n",
    "    for reco in [Pegleg_track, Pegleg_cascade, Monopod, true]:\n",
    "        mask += np.isnan(reco['energy'])\n",
    "        mask += np.isnan(reco['zenith'])\n",
    "        mask += np.isinf(reco['zenith'])\n",
    "        mask += np.isinf(reco['energy']) #get rid of this if energy = 0 is helpful\n",
    "    print np.unique(mask)\n",
    "    print mask\n",
    "    mask = map(bool, mask)\n",
    "    mask = [not x for x in mask]\n",
    "    for reco in [Pegleg_track, Pegleg_cascade, Monopod, true]:\n",
    "        for key in reco.keys():\n",
    "            reco[key] = reco[key][mask]\n",
    "            \n",
    "true = getTruth('MCNeutrino', 'I3MCWeightDict')\n",
    "Pegleg_track = getRecos('Pegleg_Fit_MN_tol10Track', 'Pegleg_Fit_MN_tol10FitParams')\n",
    "Pegleg_cascade = getRecos('Pegleg_Fit_MN_tol10HDCasc', 'Monopod_bestFitParams')\n",
    "Monopod = getRecos('Monopod_best', 'Monopod_bestFitParams')\n",
    "maskAllRecos()"
   ]
  },
  {
   "cell_type": "code",
   "execution_count": 4,
   "metadata": {},
   "outputs": [
    {
     "data": {
      "text/plain": [
       "{'MaxEnergyLog': array([3.69897, 3.69897, 3.69897, ..., 3.     , 3.     , 3.     ]),\n",
       " 'MinEnergyLog': array([2.        , 2.        , 2.        , ..., 1.90308999, 1.90308999,\n",
       "        1.90308999]),\n",
       " 'NEvents': array([50000., 50000., 50000., ..., 30700., 30700., 30700.]),\n",
       " 'OneWeight': array([5.36788352e+06, 6.66118121e+09, 1.30386867e+07, ...,\n",
       "        1.59149205e+05, 4.80256427e+05, 3.41449900e+05]),\n",
       " 'OneWeightbyNGen': array([2.20040316e-02, 2.73055184e+01, 5.34481929e-02, ...,\n",
       "        7.05307917e-03, 2.12837168e-02, 1.51321722e-02]),\n",
       " 'azimuth': array([5.32977284, 1.6121022 , 0.57937745, ..., 0.75856769, 2.99386196,\n",
       "        5.11008117]),\n",
       " 'energy': array([104.42746359, 743.64107368, 111.27411143, ...,  88.80191194,\n",
       "        128.05998938,  92.27591244]),\n",
       " 'type': array([-14.,  14.,  14., ..., -14., -14.,  14.]),\n",
       " 'zenith': array([2.19184033, 2.15648075, 2.24356555, ..., 2.67495411, 1.96634312,\n",
       "        2.79588484])}"
      ]
     },
     "execution_count": 4,
     "metadata": {},
     "output_type": "execute_result"
    }
   ],
   "source": [
    "true"
   ]
  },
  {
   "cell_type": "code",
   "execution_count": 5,
   "metadata": {},
   "outputs": [],
   "source": [
    "def predictSigma(exp):\n",
    "    myForest = pickle.load(open('/data/user/apizzuto/Nova/RandomForests/FakeForestForEarlySensitivities.sav', 'rb'))\n",
    "    \n",
    "    df = {}\n",
    "    df['Monopod_energy'] = FullExp['reco_cascade_energy']\n",
    "    df['Pegleg_rlogl'] = FullExp['rLLH_Pegleg']\n",
    "    df['Monopod_rlogl'] = FullExp['rLLH_Monopod']\n",
    "    df['Pegleg_energy'] = FullExp['reco_track_energy']\n",
    "    df['Pegleg_zenith'] = np.cos(FullExp['reco_zenith'])\n",
    "    X_test = pd.DataFrame.from_dict(df)\n",
    "    \n",
    "    sigma = myForest.predict(X_test)\n",
    "    return np.power(10, sigma)"
   ]
  },
  {
   "cell_type": "code",
   "execution_count": 57,
   "metadata": {},
   "outputs": [],
   "source": [
    "for year in ['2012', '2013', '2014', '2015', '2016']:\n",
    "    FullExp = np.load(path  + 'Level7_data_{}.pckl'.format(year))\n",
    "    livetime = np.sum(FullExp['livetime']) / 86400. #livetime in days\n",
    "    \n",
    "    exp = {}\n",
    "    \n",
    "\n",
    "    exp['logE'] = exp['logE']\n",
    "    exp['time'] = Time(FullExp['time']).mjd\n",
    "    exp['run'] = FullExp['run']\n",
    "    exp['event'] = FullExp['event_id']\n",
    "    exp['ra'], exp['dec'] = astro.dir_to_equa(FullExp['reco_zenith'], FullExp['reco_azimuth'], exp['time']) \n",
    "    exp['azi'] = FullExp['reco_azimuth']\n",
    "    exp['zenith'] = FullExp['reco_zenith']\n",
    "    exp['angErr'] = predictSigma(exp)\n",
    "    exp['logE'] = np.log10(FullExp['reco_energy']) ##FIGURE OUT MASK HERE NOW\n",
    "    mask = exp['logE'] == np.isnan\n",
    "    mask += exp['logE'] == -np.inf\n",
    "    for key in exp.keys():\n",
    "        exp[key] = exp[key[~mask]]\n",
    "    dtype = []\n",
    "    for key in sorted(exp.keys()):\n",
    "        dtype.append((key, type(exp[key][0])))\n",
    "    expVals = zip(*list(zip(*sorted(exp.items())))[1])\n",
    "    exp = np.array(expVals, dtype = dtype)\n",
    "    \n",
    "    mc = {}\n",
    "    \n",
    "    mc['ra'], mc['dec'] = \n",
    "    mc['azi'] = \n",
    "    mc['zen'] = \n",
    "    mc['angErr'] = \n",
    "    mc['logE'] = \n",
    "    mc['trueE'] = \n",
    "    mc['trueRa'], mc['drueDec'] = \n",
    "    mc['ow'] = \n",
    "    mc['time'] = \n",
    "    dtype = []\n",
    "    for key in sorted(mc.keys()):\n",
    "        dtype.append((key, type(mc[key][0])))\n",
    "    mcVals = zip(*list(zip(*sorted(mc.items())))[1])\n",
    "    mc = np.array(mcVals, dtype = dtype)\n",
    "    \n",
    "    #np.save(outfile + season_names[i] + \"_North_nugen\", mc)\n",
    "    #np.save(outfile + season_names[i] + \"_North_data\", exp)"
   ]
  },
  {
   "cell_type": "code",
   "execution_count": 58,
   "metadata": {},
   "outputs": [
    {
     "data": {
      "text/plain": [
       "array([(0.40055002, 0.05924398, -0.74957049,  1930109, 13.32      , 4.90076149, 127951, 57528.87650724, 0.82168187),\n",
       "       (0.36159041, 4.72469547, -0.24468621,  3142933,  6.18124319, 0.27053474, 127951, 57528.8818136 , 1.32766553),\n",
       "       (0.23102447, 5.10804552,  0.07658806,  6884623, 27.10867273, 6.2733291 , 127951, 57528.89818219, 1.6490158 ),\n",
       "       ...,\n",
       "       (0.42196017, 5.69866536, -0.30759123, 70448516, 39.30893984, 4.6119834 , 129517, 57890.73722764, 1.26317025),\n",
       "       (0.56076321, 2.53788971, -0.68481156, 71465419, 48.50086967, 1.51993582, 129517, 57890.74171706, 0.88588502),\n",
       "       (0.81524434, 0.13940922, -1.18364048, 74774571, 45.17606974, 4.0053347 , 129517, 57890.7563128 , 0.38616482)],\n",
       "      dtype=[('angErr', '<f8'), ('azi', '<f8'), ('dec', '<f8'), ('event', '<i8'), ('logE', '<f8'), ('ra', '<f8'), ('run', '<i8'), ('time', '<f8'), ('zenith', '<f8')])"
      ]
     },
     "execution_count": 58,
     "metadata": {},
     "output_type": "execute_result"
    }
   ],
   "source": [
    "exp"
   ]
  },
  {
   "cell_type": "code",
   "execution_count": 5,
   "metadata": {},
   "outputs": [
    {
     "data": {
      "text/plain": [
       "{'CE_contains_baddoms': array([False, False, False, ..., False, False, False]),\n",
       " 'CalibrationErrataLength': array([0, 0, 0, ..., 0, 0, 0]),\n",
       " 'GeV_per_channel': array([0.666     , 0.5619312 , 1.93633377, ..., 2.06889157, 2.42504348,\n",
       "        3.22686212]),\n",
       " 'StartingContainmentBool': array([ True,  True, False, ...,  True,  True, False]),\n",
       " 'charge': array([20.37500007, 10.29999986, 13.97500007, ..., 21.1750001 ,\n",
       "        20.99999979, 10.94999996]),\n",
       " 'charge_fraction': array([0.1006135 , 0.18203883, 0.13059034, ..., 0.16174735, 0.09642858,\n",
       "        0.1392694 ]),\n",
       " 'charge_rms_normalized': array([0.23964104, 0.33260399, 0.29026113, ..., 0.26794751, 0.242968  ,\n",
       "        0.29456479]),\n",
       " 'deltaLLH': array([-1.80941791, -2.39931607, -2.70849005, ...,  0.29471975,\n",
       "        -1.08133579, -5.78980379]),\n",
       " 'dist_nearest_om': array([19.94972886, 21.18891896, 61.07311506, ..., 33.45075298,\n",
       "        25.05376913, 57.03985873]),\n",
       " 'dist_nearest_string': array([19.90999925, 20.99057596, 61.07287774, ..., 33.41263354,\n",
       "        25.00574232, 56.64645998]),\n",
       " 'event_id': array([ 1930109,  3142933,  6884623, ..., 70448516, 71465419, 74774571]),\n",
       " 'event_length': array([10224., 10895., 10437., ..., 10241., 10682., 10749.]),\n",
       " 'fr_from_nch': array([0.07727273, 0.08270677, 0.14864865, ..., 0.11510791, 0.21212121,\n",
       "        0.11363636]),\n",
       " 'livetime': array([28768., 28768., 28768., ..., 28767., 28767., 28767.]),\n",
       " 'nchannel': array([20, 11, 14, ..., 19, 20, 14]),\n",
       " 'nearest_om': array([24., 40., 52., ..., 49., 59., 44.]),\n",
       " 'nearest_string': array([83., 84., 18., ..., 81., 81., 37.]),\n",
       " 'possible_SC_contamination': array([False, False, False, ..., False, False, False]),\n",
       " 'rLLH_Monopod': array([0.04968751, 0.0333928 , 0.03866439, ..., 0.05069543, 0.04905865,\n",
       "        0.04136159]),\n",
       " 'rLLH_Pegleg': array([0.0493316 , 0.032919  , 0.03813028, ..., 0.05075343, 0.04884591,\n",
       "        0.04021985]),\n",
       " 'reco_azimuth': array([0.05924398, 4.72469547, 5.10804552, ..., 5.69866536, 2.53788971,\n",
       "        0.13940922]),\n",
       " 'reco_cascade_energy': array([ 0.        ,  0.63124319, 11.56867273, ..., 38.19893984,\n",
       "        45.17086967, 25.19606974]),\n",
       " 'reco_energy': array([13.32      ,  6.18124319, 27.10867273, ..., 39.30893984,\n",
       "        48.50086967, 45.17606974]),\n",
       " 'reco_rho': array([ 66.75052192,  82.28510407, 165.40994567, ...,  92.77554307,\n",
       "         50.85054145, 128.84292661]),\n",
       " 'reco_rho_stop': array([43.78916871, 58.17290631, 95.83882607, ..., 94.47895433,\n",
       "        47.41096741, 96.66340804]),\n",
       " 'reco_track_energy': array([13.32,  5.55, 15.54, ...,  1.11,  3.33, 19.98]),\n",
       " 'reco_x': array([ 99.61326456,  39.55488602, 100.82034527, ...,  68.59951809,\n",
       "         55.98678476, 164.20592931]),\n",
       " 'reco_x_stop': array([ 55.75281687,  39.25628002,  73.92384935, ...,  64.62538768,\n",
       "         65.55045849, 130.63733478]),\n",
       " 'reco_y': array([ -75.03297789, -116.88900312, -191.04302883, ...,   55.17324422,\n",
       "          15.03743113,   17.04622991]),\n",
       " 'reco_y_stop': array([ -77.63448974,  -92.62611512, -126.64846383, ...,   57.80271883,\n",
       "           8.44244879,   12.33590379]),\n",
       " 'reco_z': array([-250.95158373, -361.75759483, -369.32025561, ..., -422.63350533,\n",
       "        -492.75945224, -221.11239532]),\n",
       " 'reco_z_stop': array([-291.81101672, -367.77615782, -363.85047443, ..., -424.14749038,\n",
       "        -502.24851715, -304.48482655]),\n",
       " 'reco_zenith': array([0.82168187, 1.32766553, 1.6490158 , ..., 1.26317025, 0.88588502,\n",
       "        0.38616482]),\n",
       " 'run': array([127951, 127951, 127951, ..., 129517, 129517, 129517]),\n",
       " 'run_start_time': array([datetime.datetime(2016, 5, 20, 20, 50, 2, 796624),\n",
       "        datetime.datetime(2016, 5, 20, 20, 50, 2, 796624),\n",
       "        datetime.datetime(2016, 5, 20, 20, 50, 2, 796624), ...,\n",
       "        datetime.datetime(2017, 5, 17, 10, 14, 23, 83488),\n",
       "        datetime.datetime(2017, 5, 17, 10, 14, 23, 83488),\n",
       "        datetime.datetime(2017, 5, 17, 10, 14, 23, 83488)], dtype=object),\n",
       " 'sub_event_id': array([0, 0, 0, ..., 0, 0, 0]),\n",
       " 't_rms': array([297.98883788, 307.70714316, 164.86210998, ..., 699.86138319,\n",
       "        520.68694049, 341.09861522]),\n",
       " 'time': array([datetime.datetime(2016, 5, 20, 21, 2, 10, 225161),\n",
       "        datetime.datetime(2016, 5, 20, 21, 9, 48, 695167),\n",
       "        datetime.datetime(2016, 5, 20, 21, 33, 22, 941085), ...,\n",
       "        datetime.datetime(2017, 5, 17, 17, 41, 36, 468309),\n",
       "        datetime.datetime(2017, 5, 17, 17, 48, 4, 353988),\n",
       "        datetime.datetime(2017, 5, 17, 18, 9, 5, 425763)], dtype=object),\n",
       " 'time_since_start': array([], dtype=float64),\n",
       " 'tracklength': array([60., 25., 70., ...,  5., 15., 90.]),\n",
       " 'was_split': array([ True,  True,  True, ...,  True,  True,  True]),\n",
       " 'z_firsthit': array([-250.94000244, -343.61999512, -374.3999939 , ..., -410.20999146,\n",
       "        -503.61999512, -329.60998535])}"
      ]
     },
     "execution_count": 5,
     "metadata": {},
     "output_type": "execute_result"
    }
   ],
   "source": [
    "FullExp"
   ]
  },
  {
   "cell_type": "code",
   "execution_count": null,
   "metadata": {},
   "outputs": [],
   "source": []
  }
 ],
 "metadata": {
  "kernelspec": {
   "display_name": "Python 2",
   "language": "python",
   "name": "python2"
  },
  "language_info": {
   "codemirror_mode": {
    "name": "ipython",
    "version": 2
   },
   "file_extension": ".py",
   "mimetype": "text/x-python",
   "name": "python",
   "nbconvert_exporter": "python",
   "pygments_lexer": "ipython2",
   "version": "2.7.13"
  }
 },
 "nbformat": 4,
 "nbformat_minor": 2
}
