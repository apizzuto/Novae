{
 "cells": [
  {
   "cell_type": "code",
   "execution_count": 11,
   "metadata": {},
   "outputs": [],
   "source": [
    "import numpy as np\n",
    "import pandas as pd\n",
    "from glob import glob\n",
    "import sys\n",
    "from icecube import astro\n",
    "sys.path.append('/home/apizzuto/Nova/scripts/')\n",
    "from Novae import Nova\n",
    "import matplotlib.pyplot as plt\n",
    "from astropy.time import Time\n",
    "import seaborn as sns\n",
    "import matplotlib as mpl\n",
    "from numpy.lib.recfunctions import append_fields\n",
    "plt.style.use('/home/apizzuto/Nova/scripts/novae_plots.mplstyle')\n",
    "%matplotlib inline\n",
    "palette = sns.color_palette('colorblind')"
   ]
  },
  {
   "cell_type": "code",
   "execution_count": 8,
   "metadata": {},
   "outputs": [],
   "source": [
    "def mids(arr):\n",
    "    return arr[:-1] + (np.diff(arr) / 2.)\n",
    "\n",
    "def find_nearest(array, values):\n",
    "    array = np.asarray(array)\n",
    "    idx = [(np.abs(array - value)).argmin() for value in values]\n",
    "    return array[idx]\n",
    "\n",
    "def deltaPsi(dec1, ra1, dec2, ra2):\n",
    "    \"\"\"\n",
    "    Calculate angular distance.\n",
    "    \n",
    "    Args:\n",
    "        dec1: Declination of first direction in radian\n",
    "        ra1: Right ascension of first direction in radian\n",
    "        dec2: Declination of second direction in radian\n",
    "        ra2: Right ascension of second direction in radian\n",
    "        \n",
    "    Returns angular distance in radian\n",
    "    \"\"\"\n",
    "    return deltaPsi2(np.sin(dec1), np.cos(dec1), np.sin(ra1), np.cos(ra1), np.sin(dec2), np.cos(dec2), np.sin(ra2), np.cos(ra2))\n",
    "\n",
    "def deltaPsi2(sDec1, cDec1, sRa1, cRa1, sDec2, cDec2, sRa2, cRa2):\n",
    "    \"\"\"\n",
    "    Calculate angular distance.\n",
    "    \n",
    "    Args:\n",
    "        sDec1: sin(Declination of first direction)\n",
    "        cDec1: cos(Declination of first direction)\n",
    "        sRa1: sin(Right ascension of first direction)\n",
    "        cRa1: cos(Right ascension of first direction)\n",
    "        sDec2: sin(Declination of second direction)\n",
    "        cDec2: cos(Declination of second direction)\n",
    "        sRa2: sin(Right ascension of second direction)\n",
    "        cRa2: cos(Right ascension of second direction)\n",
    "        \n",
    "    Returns angular distance in radian\n",
    "    \"\"\"\n",
    "    tmp = cDec1*cRa1*cDec2*cRa2 + cDec1*sRa1*cDec2*sRa2 + sDec1*sDec2\n",
    "    tmp[tmp>1.] = 1.\n",
    "    tmp[tmp<-1.] = -1.\n",
    "    return np.arccos(tmp)"
   ]
  },
  {
   "cell_type": "code",
   "execution_count": 5,
   "metadata": {},
   "outputs": [],
   "source": [
    "df = pd.read_csv('/home/apizzuto/Nova/Novae_details.csv')\n",
    "df = df.sort_values('Start Time (gamma ray)')\n",
    "\n",
    "novae = []\n",
    "for index, row in df.iterrows():\n",
    "    a = Nova(row['Name'], -1*row['EPL gamma'], np.radians(row['RA (Deg)']), np.radians(row['Dec. (Deg)']), \n",
    "                row['Start Time (gamma ray)'], row['Duration (gamma ray)'], flux_norm=row['EPL flux']*1e-7, cutoff = row['EPL cutoff '])\n",
    "    novae.append(a)\n",
    "datafs = sorted(glob('/data/user/mlarson/combo_r129072/skylab/scripts/testing/GRECO/version-001-p00/IC86_*_data.npy'))\n",
    "datas = [np.load(dataf) for dataf in datafs]\n",
    "mc = np.load('/data/user/mlarson/combo_r129072/skylab/scripts/testing/GRECO/version-001-p00/IC86_2012_mc.npy')\n",
    "grlfs = sorted(glob('/data/user/mlarson/combo_r129072/skylab/scripts/testing/GRECO/version-001-p00/GRL/IC86_*_data.npy'))\n",
    "grls = [np.load(grlf) for grlf in grlfs]"
   ]
  },
  {
   "cell_type": "code",
   "execution_count": 6,
   "metadata": {},
   "outputs": [],
   "source": [
    "def append_rows(arrayIN, NewRows):\n",
    "    # Calculate the number of old and new rows\n",
    "    len_arrayIN = arrayIN.shape[0]\n",
    "    len_NewRows = len(NewRows)\n",
    "    # Resize the old recarray\n",
    "    arrayIN.resize(len_arrayIN + len_NewRows, refcheck=False)\n",
    "    # Write to the end of recarray\n",
    "    arrayIN[-len_NewRows:] = NewRows\n",
    "    return arrayIN\n",
    "    \n",
    "master_grl = grls[0]\n",
    "for grl in grls[1:]:\n",
    "    master_grl = append_rows(master_grl, grl)\n",
    "    \n",
    "master_grl = np.unique(master_grl)"
   ]
  },
  {
   "cell_type": "code",
   "execution_count": 12,
   "metadata": {},
   "outputs": [],
   "source": [
    "datas[0]\n",
    "dpsi = deltaPsi(mc['dec'], mc['ra'], mc['trueDec'], mc['trueRa'])\n",
    "mc = append_fields(mc, 'deltaPsi', dpsi, usemask=False)"
   ]
  },
  {
   "cell_type": "code",
   "execution_count": 20,
   "metadata": {},
   "outputs": [
    {
     "data": {
      "image/png": "[encoded data removed]",
      "text/plain": [
       "<Figure size 432x288 with 1 Axes>"
      ]
     },
     "metadata": {
      "needs_background": "light"
     },
     "output_type": "display_data"
    }
   ],
   "source": [
    "plt.hist(mc['deltaPsi']*180. / np.pi, bins = np.linspace(0., 180., 100), zorder = 20)\n",
    "plt.show()"
   ]
  },
  {
   "cell_type": "code",
   "execution_count": 17,
   "metadata": {},
   "outputs": [
    {
     "data": {
      "text/plain": [
       "36.49282225956173"
      ]
     },
     "execution_count": 17,
     "metadata": {},
     "output_type": "execute_result"
    }
   ],
   "source": [
    "np.median(mc['deltaPsi']) * 180. / np.pi"
   ]
  },
  {
   "cell_type": "code",
   "execution_count": null,
   "metadata": {},
   "outputs": [],
   "source": []
  }
 ],
 "metadata": {
  "kernelspec": {
   "display_name": "Python 2",
   "language": "python",
   "name": "python2"
  }
 },
 "nbformat": 4,
 "nbformat_minor": 2
}
