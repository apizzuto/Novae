{
 "cells": [
  {
   "cell_type": "code",
   "execution_count": 1,
   "metadata": {},
   "outputs": [],
   "source": [
    "### Checked that TS doesn't collapse if sources are added: Hmm, not sure yet exactly what's going on\n",
    "\n",
    "import numpy as np\n",
    "import matplotlib as mpl\n",
    "import matplotlib.pyplot as plt\n",
    "import healpy as hp\n",
    "import pickle\n",
    "\n",
    "import histlite as hl\n",
    "import csky as cy\n",
    "\n",
    "from scipy import stats\n",
    "\n",
    "%matplotlib inline"
   ]
  },
  {
   "cell_type": "code",
   "execution_count": 2,
   "metadata": {},
   "outputs": [],
   "source": [
    "plt.style.use('../matplotlib_style')"
   ]
  },
  {
   "cell_type": "code",
   "execution_count": 1,
   "metadata": {},
   "outputs": [],
   "source": [
    "ana_dir = '/home/pcoppin/csky_notebooks/TESTDIR'"
   ]
  },
  {
   "cell_type": "code",
   "execution_count": 4,
   "metadata": {},
   "outputs": [
    {
     "name": "stdout",
     "output_type": "stream",
     "text": [
      "Setting up Analysis for:\n",
      "IC86_2011\n",
      "Setting up IC86_2011...\n",
      "Reading /data/ana/analyses/ps_tracks/current/IC86_2011_MC.npy ...\n",
      "Reading /data/ana/analyses/ps_tracks/current/IC86_2011_exp.npy ...\n",
      "Reading /data/ana/analyses/ps_tracks/current/GRL/IC86_2011_exp.npy ...\n",
      "<- /home/pcoppin/csky_notebooks/TESTDIR/IC86_2011.subanalysis.npy    \n",
      "Done.\n"
     ]
    }
   ],
   "source": [
    "#ana = cy.get_analysis(cy.selections.repo, cy.selections.GFUDataSpecs.gfu_IC86, dir=ana_dir)\n",
    "ana = cy.get_analysis(cy.selections.repo, cy.selections.PSDataSpecs.ps_2011, dir=ana_dir)\n",
    "\n",
    "#ana.save(ana_dir)"
   ]
  },
  {
   "cell_type": "code",
   "execution_count": 5,
   "metadata": {},
   "outputs": [],
   "source": [
    "a        = ana.anas[0]\n",
    "ds       = a.ds           # ds: dataset\n",
    "data     = a.data\n",
    "\n",
    "bg_data     = a.bg_data\n",
    "sig         = a.sig\n",
    "livetime    = a.livetime\n",
    "bg_livetime = a.bg_livetime\n",
    "grl         = a.grl\n",
    "mjd_range   = [a.mjd_min, a.mjd_max]\n",
    "\n",
    "zenith_bins = a.kw_space_bg['hkw'][\"bins\"]"
   ]
  },
  {
   "cell_type": "code",
   "execution_count": 6,
   "metadata": {},
   "outputs": [],
   "source": [
    "Configuration = {'ana': ana,\n",
    "                 'space': \"ps\",\n",
    "                 'time': \"transient\",\n",
    "                 'sig': 'transient',\n",
    "                 'energy': \"customflux\",\n",
    "                 'flux': cy.hyp.PowerLawFlux(2),\n",
    "                 'bg_param': cy.pdf.BgAzimuthSinDecParameterization(a.bg_data, smooth=(1,4), hkw=a.kw_space_bg['hkw']),\n",
    "                 'cut_n_sigma': 5,\n",
    "                 'mp_cpus': 5,\n",
    "                 'extended': True}   # Use an extended likelihood, i.e. including a Poissonian term\n",
    "\n",
    "cy.CONF.update(Configuration)"
   ]
  },
  {
   "cell_type": "code",
   "execution_count": 17,
   "metadata": {},
   "outputs": [],
   "source": [
    "N_srcs = 1\n",
    "ran = np.random.RandomState(seed=5239)\n",
    "src_mjds = ran.uniform(a.mjd_min+10, a.mjd_max-10, N_srcs)\n",
    "src_ras = ran.uniform(0, 2*np.pi, N_srcs)\n",
    "src_decs = ran.uniform(-0.5*np.pi, 0.5*np.pi, N_srcs)\n",
    "src_t100s = ran.uniform(0.2, 0.8, N_srcs)\n",
    "\n",
    "src = cy.utils.Sources(ra=src_ras, dec=src_decs, mjd=src_mjds, sigma_t=np.zeros((len(src_ras))), t_100=src_t100s, extension=np.zeros((len(src_ras))))"
   ]
  },
  {
   "cell_type": "code",
   "execution_count": 197,
   "metadata": {},
   "outputs": [],
   "source": [
    "# for key in src.keys():\n",
    "#     print(key)\n",
    "#     print(src[key])\n",
    "#     print()\n",
    "src = cy.utils.Sources(ra=[0.91668162, 4.04814167, 2.74595039, 4.23008209, 5.03080606, 1.96223473, 3.87815248, 5.15003109, 1.72646452, 2.84146484],\n",
    "                       dec=[-1.16047679, 0.96948654, -0.6776547, 0.510607, -0.30790527, 1.25675768, 0.51993802, -0.91140132, -0.65187073, -0.16032772],\n",
    "                       mjd=[55904.75139009, 55799.73504639, 55740.10736078, 55741.83147753, 55741.36060262, 55967.32804137, 55985.72273753, 56019.47500169, 55868.86090543, 55837.34996367],\n",
    "                       sigma_t=[0., 0., 0., 0., 0., 0., 0., 0., 0., 0.],\n",
    "                       t_100=[0.73503302, 0.6158417, 0.53207519, 0.58095649, 0.52194223, 0.2076263, 0.52491778, 0.51386926, 0.41912883, 0.44362005],\n",
    "                       extension=[0.03490659, 0.03490659, 0.03490659, 0.03490659, 0.03490659, 0.03490659, 0.03490659, 0.03490659, 0.03490659, 0.03490659])"
   ]
  },
  {
   "cell_type": "code",
   "execution_count": 162,
   "metadata": {},
   "outputs": [],
   "source": [
    "one_GRB = True\n",
    "if( one_GRB ): # Doesnt give a nice dist  --> Because the extension is too small... See if this really is a problem and why it differs so much from the sp one\n",
    "    #src = cy.utils.Sources(ra=[34.82], dec=[43.21], deg=True , mjd=[55776.1234], sigma_t=[0.0/86400], t_100=[1e6/86400], name=[\"Fake_GRB\"], extension=[2.0], t_start=[55776.0234], t_stop=[55776.5234])\n",
    "    \n",
    "    \n",
    "    src = pickle.load(open(\"random_10_srcs.pickle\", \"rb\"))\n",
    "    src.__setitem__(\"extension\", np.radians(2)*np.ones((len(src))))\n",
    "    src._unset('prior')\n",
    "    \n",
    "#     N = 10\n",
    "#     duration = 4e4/86400.0#/N\n",
    "#     src = cy.utils.Sources(ra=[34.82], dec=[43.21], deg=True , mjd=[55776.1234], sigma_t=[0.0/86400], t_100=[duration], extension=[2.0], t_start=[55776.0234], t_stop=[55776.5234])\n",
    "#     for i in range(1, N):\n",
    "#         src = src + cy.utils.Sources(ra=[34.82], dec=[43.21], deg=True , mjd=[55776.1234+i], sigma_t=[0.0/86400], t_100=[duration],\n",
    "#                                      extension=[2.0], t_start=[55776.0234+i], t_stop=[55776.5234+i])\n",
    "    #src = src[:]\n",
    "    #src._set(\"weight\", np.ones((len(src)))/len(src))\n",
    "else: # Gives a nice dist\n",
    "    import sqlite3\n",
    "    import pandas\n",
    "    import numpy as np\n",
    "    db = sqlite3.connect(\"/home/pcoppin/csky_notebooks/GRB_data/GRBweb2.sqlite\")\n",
    "    query = \"Select * from Summary where GRB_name_Fermi like 'GRB11%'\"\n",
    "    for i in range(2, 10):\n",
    "         query += \" OR GRB_name_Fermi like 'GRB1{}%'\".format(i)\n",
    "    query += \";\"\n",
    "    table = pandas.read_sql_query(query, db)\n",
    "    table = table[table.mjd>mjd_range[0]]\n",
    "    table = table[table.mjd<mjd_range[1]]\n",
    "    data_file = np.load(\"/home/pcoppin/csky_notebooks/GRB_data/Emission_times.npz\")\n",
    "    Emission_times = data_file[\"Emission_times\"].item()\n",
    "    t_prompt_start = {}\n",
    "    for key in Emission_times:\n",
    "        t, p = Emission_times[key]\n",
    "        if( t is not None ):\n",
    "            t_prompt_start[key.replace(\"bn\", \"GRB\")] = t\n",
    "    T = table[table.GRB_name_Fermi.isin(t_prompt_start)]\n",
    "    print(len(T))\n",
    "    T = T[:20]    # limit the number of sources\n",
    "    Names = np.array(T.GRB_name_Fermi, dtype=str)\n",
    "    t_active_start = []\n",
    "    t_start = []\n",
    "    t_stop  = []\n",
    "    extension = []#\n",
    "    for name in Names:\n",
    "        mjd       = float(T.mjd[T.GRB_name_Fermi==name])\n",
    "        T100      = float(T.T100[T.GRB_name_Fermi==name])\n",
    "        t_prompt  = t_prompt_start[name]\n",
    "        pos_error = float(T.pos_error[T.GRB_name_Fermi==name])\n",
    "        ext       = None\n",
    "        mjd_prompt = mjd + t_prompt/86400\n",
    "        t_active_start.append(mjd_prompt - 500/86400)\n",
    "        t_start.append(mjd_prompt-500/86400)\n",
    "        t_stop.append( mjd_prompt)\n",
    "        if( np.isnan(pos_error) ):\n",
    "            extension.append(10)\n",
    "        else:\n",
    "            extension.append(pos_error)\n",
    "    #extension = np.radians(extension) Can be given in degrees if \"deg=True\"\n",
    "    # Define the sources\n",
    "    src = cy.utils.Sources(ra=np.array(T.ra), dec=np.array(T.decl), deg=True, extension=extension, mjd=np.array(t_active_start), # Note that MJD & T100 will be changed when comparing different time windows\n",
    "                           t_100=np.repeat(500/86400.0,len(Names)), name=Names, sigma_t=np.repeat(0,len(Names)), t_start=np.array(t_start), t_stop=np.array(t_stop))\n",
    "    print(len(src))\n",
    "\n",
    "#src[\"t_100\"] = 1e5/86400.0*np.ones((len(src)))\n",
    "#src[\"weight\"] = np.ones((len(src)))"
   ]
  },
  {
   "cell_type": "code",
   "execution_count": 18,
   "metadata": {},
   "outputs": [],
   "source": [
    "trtr = cy.get_trial_runner(src=src)"
   ]
  },
  {
   "cell_type": "code",
   "execution_count": 19,
   "metadata": {},
   "outputs": [
    {
     "data": {
      "text/plain": [
       "(0.0,\n",
       " {'ns': 0.0},\n",
       " {},\n",
       " {'_fit_null': False,\n",
       "  '_fmin_epsilon': 1e-08,\n",
       "  '_fmin_factr': 1000000000.0,\n",
       "  '_fmin_method': 'l_bfgs_b',\n",
       "  '_full_output': True,\n",
       "  '_log_params': [],\n",
       "  '_masks': None,\n",
       "  '_ns_min': 0,\n",
       "  '_ns_tol': 0.0001,\n",
       "  '_seed_with_null': False,\n",
       "  '_seed_with_prior': True,\n",
       "  '_taylor_tol': 0.001,\n",
       "  '_ts_min': 0})"
      ]
     },
     "execution_count": 19,
     "metadata": {},
     "output_type": "execute_result"
    }
   ],
   "source": [
    "trtr.get_one_fit(0, seed=2364, _full_output=True)"
   ]
  },
  {
   "cell_type": "markdown",
   "metadata": {},
   "source": [
    "### Look at the bg TS distribution"
   ]
  },
  {
   "cell_type": "code",
   "execution_count": 20,
   "metadata": {},
   "outputs": [
    {
     "name": "stdout",
     "output_type": "stream",
     "text": [
      "Performing 10000 background trials using 10 cores:\n",
      "      10000/10000 trials complete.   \n",
      "CPU times: user 14.8 ms, sys: 101 ms, total: 116 ms\n",
      "Wall time: 3.15 s\n",
      "Chi2TSD(10000 trials, eta=0.047, ndof=1.554, median=0.000 (from fit 0.000))\n"
     ]
    },
    {
     "data": {
      "text/plain": [
       "12.270822957517627"
      ]
     },
     "execution_count": 20,
     "metadata": {},
     "output_type": "execute_result"
    }
   ],
   "source": [
    "%time bg_fits = trtr.get_many_fits(10000, mp_cpus=10, seed=20)\n",
    "bg = cy.dists.Chi2TSD (bg_fits, floc=0)\n",
    "print(bg)\n",
    "max(bg.trials.ts)"
   ]
  },
  {
   "cell_type": "code",
   "execution_count": 21,
   "metadata": {},
   "outputs": [
    {
     "data": {
      "image/png": "[encoded data removed]",
      "text/plain": [
       "<matplotlib.figure.Figure at 0x7f33c9818190>"
      ]
     },
     "metadata": {},
     "output_type": "display_data"
    }
   ],
   "source": [
    "fig, ax = plt.subplots()\n",
    "h = bg.get_hist (bins=50)\n",
    "hl.plot1d (ax, h.normalize (), crosses=True)\n",
    "x = np.linspace (.1, h.range[0][-1], 100)\n",
    "ax.semilogy (x, bg.eta * bg.chi2.pdf (x), 'k--', lw=1)\n",
    "plt.xlabel(\"TS\")\n",
    "plt.ylabel(\"PDF\")\n",
    "#plt.xlim(0,15)\n",
    "#plt.ylim(1e-4, 10)\n",
    "plt.tight_layout()\n",
    "plt.show()"
   ]
  },
  {
   "cell_type": "markdown",
   "metadata": {},
   "source": [
    "### Check for a bias in the fit for ns"
   ]
  },
  {
   "cell_type": "code",
   "execution_count": 23,
   "metadata": {},
   "outputs": [
    {
     "name": "stdout",
     "output_type": "stream",
     "text": [
      "Performing 5000 background trials using 10 cores:\n",
      "       5000/5000 trials complete.   \n",
      "Performing 5000 trials with n_sig = 2.000 using 10 cores:\n",
      "       5000/5000 trials complete.   \n",
      "Performing 5000 trials with n_sig = 4.000 using 10 cores:\n",
      "       5000/5000 trials complete.   \n",
      "Performing 5000 trials with n_sig = 6.000 using 10 cores:\n",
      "       5000/5000 trials complete.   \n",
      "Performing 5000 trials with n_sig = 8.000 using 10 cores:\n",
      "       5000/5000 trials complete.   \n"
     ]
    }
   ],
   "source": [
    "nss_fit  = []\n",
    "nss_true = []\n",
    "ns_range = []\n",
    "medians  = []\n",
    "means    = []\n",
    "N_trials = 5000\n",
    "step_size = 2\n",
    "max_ns    = 9\n",
    "for ns_true in xrange(0, max_ns, step_size):\n",
    "    out = trtr.get_many_fits(N_trials, n_sig=ns_true, mp_cpus=10)\n",
    "    ns_fit = out.ns\n",
    "    nss_fit.extend(out.ns)\n",
    "    median, mean = np.median(ns_fit), np.mean(ns_fit)\n",
    "    means.append(mean)\n",
    "    medians.append(median)\n",
    "    nss_true.extend(ns_true*np.ones((len(out.ns))))\n",
    "    ns_range.append(ns_true)"
   ]
  },
  {
   "cell_type": "code",
   "execution_count": 26,
   "metadata": {},
   "outputs": [
    {
     "data": {
      "image/png": "[encoded data removed]",
      "text/plain": [
       "<matplotlib.figure.Figure at 0x7f3a2cf5a490>"
      ]
     },
     "metadata": {},
     "output_type": "display_data"
    }
   ],
   "source": [
    "x_bins = np.arange(-0.5*step_size, max_ns+0.5*step_size, step_size)\n",
    "y_bins = np.arange(0, max(nss_fit), 1)\n",
    "ttt = plt.figure(figsize=(8, 8))\n",
    "ttt = plt.hist2d(nss_true, nss_fit, bins=[x_bins, y_bins], norm = mpl.colors.LogNorm())\n",
    "plt.plot(ns_range, ns_range, color='black', label=\"f(x)=x\")\n",
    "plt.plot(ns_range, medians, label=\"Median\")\n",
    "plt.plot(ns_range, means, label=\"Mean\")\n",
    "ttt = plt.axis(\"square\")\n",
    "ttt = plt.legend(loc=\"best\")\n",
    "\n",
    "ax = plt.gca()\n",
    "from mpl_toolkits.axes_grid1 import make_axes_locatable\n",
    "divider = make_axes_locatable(ax)\n",
    "cax = divider.append_axes(\"right\", size=\"5%\", pad=0.05)\n",
    "ttt = plt.colorbar(cax=cax)"
   ]
  },
  {
   "cell_type": "code",
   "execution_count": 27,
   "metadata": {},
   "outputs": [
    {
     "data": {
      "image/png": "[encoded data removed]",
      "text/plain": [
       "<matplotlib.figure.Figure at 0x7f3a2d63ccd0>"
      ]
     },
     "metadata": {},
     "output_type": "display_data"
    }
   ],
   "source": [
    "dns = np.mean(np.diff(ns_range))\n",
    "ns_bins = np.r_[ns_range - 0.5*dns, ns_range[-1] + 0.5*dns]\n",
    "expect_kw = dict(color='C0', ls='--', lw=1, zorder=-10)\n",
    "\n",
    "fig = plt.figure(figsize=(8,8))\n",
    "ax = plt.axes()\n",
    "\n",
    "h = hl.hist((nss_true, nss_fit), bins=(ns_bins, 100))\n",
    "sss = hl.plot1d(ax, h.contain_project(1),errorbands=True, drawstyle='default')\n",
    "\n",
    "plt.plot(ns_range, ns_range, **expect_kw)\n",
    "\n",
    "plt.axis(\"square\")\n",
    "ttt = plt.xlabel(r'$n_{s,\\mathrm{inj}}$')\n",
    "ttt = plt.ylabel(r'$n_{s,\\mathrm{fit}}$')"
   ]
  },
  {
   "cell_type": "code",
   "execution_count": 38,
   "metadata": {},
   "outputs": [
    {
     "data": {
      "text/plain": [
       "array([1.])"
      ]
     },
     "execution_count": 38,
     "metadata": {},
     "output_type": "execute_result"
    }
   ],
   "source": [
    "inj = trtr.sig_injs[0]\n",
    "inj.get_frac_during_livetime()"
   ]
  },
  {
   "cell_type": "markdown",
   "metadata": {},
   "source": [
    "### Calculate the sensitivity"
   ]
  },
  {
   "cell_type": "code",
   "execution_count": 12,
   "metadata": {},
   "outputs": [
    {
     "name": "stdout",
     "output_type": "stream",
     "text": [
      "Start time: 2019-10-15 07:04:17.068184\n",
      "Using 10 cores.\n",
      "* Starting initial scan for 90% of 500 trials with TS >= 0.000...\n",
      "  n_sig = 2.000 ... frac = 0.71800\n",
      "  n_sig = 3.000 ... frac = 0.82200\n",
      "  n_sig = 4.000 ... frac = 0.89600\n",
      "  n_sig = 5.000 ... frac = 0.93400\n",
      "* Generating batches of 5000 trials...\n",
      "n_trials | n_inj    0.00    1.11    2.22    3.33    4.44    5.56    6.67    7.78    8.89   10.00  |  n_sig(relative error)\n",
      "5000     |         31.1%   57.3%   75.9%   86.0%   92.1%   95.6%   97.8%   98.6%   99.1%   99.7%  |      3.998 (+/-  1.8%) [spline]\n",
      "End time: 2019-10-15 07:05:23.703742\n",
      "Elapsed time: 0:01:06.635558\n"
     ]
    }
   ],
   "source": [
    "sens = trtr.find_n_sig(ts=0, beta=0.9, coverage=2, n_sig_step=1, n_sig_start = 2, first_batch_size=500, batch_size=5000, mp_cpus=10, tol=0.05, n_batches=10, seed=35762)\n",
    "\n",
    "# first_batch_size: Batch size used when initially scanning ns\n",
    "# Coverage: Maximal value of ns that will be used to determine n_sig (relative to the best scan value of ns)"
   ]
  },
  {
   "cell_type": "code",
   "execution_count": 14,
   "metadata": {},
   "outputs": [
    {
     "name": "stdout",
     "output_type": "stream",
     "text": [
      "Fluence: 0.0901151989765\n"
     ]
    }
   ],
   "source": [
    "#print(\"Acceptance: {}\".format(trtr.get_acc_total()))\n",
    "print(\"Fluence: {}\".format(trtr.to_E2dNdE(sens[\"n_sig\"])))"
   ]
  },
  {
   "cell_type": "code",
   "execution_count": null,
   "metadata": {},
   "outputs": [],
   "source": []
  },
  {
   "cell_type": "code",
   "execution_count": null,
   "metadata": {},
   "outputs": [],
   "source": []
  },
  {
   "cell_type": "code",
   "execution_count": null,
   "metadata": {},
   "outputs": [],
   "source": []
  },
  {
   "cell_type": "code",
   "execution_count": null,
   "metadata": {},
   "outputs": [],
   "source": []
  },
  {
   "cell_type": "code",
   "execution_count": null,
   "metadata": {},
   "outputs": [],
   "source": []
  },
  {
   "cell_type": "code",
   "execution_count": null,
   "metadata": {},
   "outputs": [],
   "source": []
  }
 ],
 "metadata": {
  "kernelspec": {
   "display_name": "Python 3",
   "language": "python",
   "name": "python3"
  },
  "language_info": {
   "codemirror_mode": {
    "name": "ipython",
    "version": 3
   },
   "file_extension": ".py",
   "mimetype": "text/x-python",
   "name": "python",
   "nbconvert_exporter": "python",
   "pygments_lexer": "ipython3",
   "version": "3.6.8"
  }
 },
 "nbformat": 4,
 "nbformat_minor": 2
}
