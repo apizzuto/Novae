{
 "cells": [
  {
   "cell_type": "code",
   "execution_count": 1,
   "metadata": {},
   "outputs": [],
   "source": [
    "import numpy as np\n",
    "import matplotlib.pyplot as plt\n",
    "import matplotlib as mpl\n",
    "\n",
    "import histlite as hl\n",
    "import csky as cy\n",
    "\n",
    "%matplotlib inline\n",
    "mpl.style.use('/home/apizzuto/Nova/python3/scripts/novae_plots.mplstyle')"
   ]
  },
  {
   "cell_type": "code",
   "execution_count": 2,
   "metadata": {},
   "outputs": [],
   "source": [
    "timer = cy.timing.Timer()\n",
    "time = timer.time"
   ]
  },
  {
   "cell_type": "code",
   "execution_count": 3,
   "metadata": {},
   "outputs": [
    {
     "name": "stdout",
     "output_type": "stream",
     "text": [
      "Setting up Analysis for:\n",
      "MESC_2010_2016_DNN\n",
      "Setting up MESC_2010_2016_DNN...\n",
      "Reading /data/user/mrichman/data/analyses/mese/current/mese_cascades_MC_2013_dnn.npy ...\n",
      "Reading /data/user/mrichman/data/analyses/mese/current/mese_cascades_2010_2016_dnn.npy ...\n",
      "Energy PDF Ratio Model...\n",
      "  * gamma = 4.0000 ...\n",
      "Signal Acceptance Model...\n",
      "  * gamma = 4.0000 ...\n",
      "Done.\n",
      "\n",
      "0:00:10.506147 elapsed.\n"
     ]
    }
   ],
   "source": [
    "with time('ana setup (from scratch)'):\n",
    "    ana = cy.get_analysis(cy.selections.mrichman_repo, cy.selections.MESEDataSpecs.mesc_7yr_dnn)"
   ]
  },
  {
   "cell_type": "code",
   "execution_count": 4,
   "metadata": {},
   "outputs": [
    {
     "name": "stdout",
     "output_type": "stream",
     "text": [
      "-> ./ana/MESC_2010_2016_DNN.subanalysis.npy    \n"
     ]
    }
   ],
   "source": [
    "ana_dir = cy.utils.ensure_dir('./ana')\n",
    "ana.save(ana_dir)"
   ]
  },
  {
   "cell_type": "code",
   "execution_count": 5,
   "metadata": {},
   "outputs": [
    {
     "name": "stdout",
     "output_type": "stream",
     "text": [
      "Setting up Analysis for:\n",
      "MESC_2010_2016_DNN\n",
      "Setting up MESC_2010_2016_DNN...\n",
      "<- ./ana/MESC_2010_2016_DNN.subanalysis.npy    \n",
      "Done.\n",
      "\n",
      "0:00:00.576564 elapsed.\n"
     ]
    }
   ],
   "source": [
    "with time('ana setup (from cache-to-disk)'):\n",
    "    ana = cy.get_analysis(cy.selections.mrichman_repo, cy.selections.MESEDataSpecs.mesc_7yr_dnn, dir=ana_dir)"
   ]
  },
  {
   "cell_type": "code",
   "execution_count": 6,
   "metadata": {},
   "outputs": [],
   "source": [
    "cy.CONF['ana'] = ana\n",
    "cy.CONF['mp_cpus'] = 5"
   ]
  },
  {
   "cell_type": "code",
   "execution_count": 7,
   "metadata": {},
   "outputs": [],
   "source": [
    "src = cy.sources(271.23, 7.78, deg=True)\n",
    "#src = cy.sources(0.0, 0.0, deg=True)\n",
    "tr = cy.get_trial_runner(src=src)"
   ]
  },
  {
   "cell_type": "code",
   "execution_count": 8,
   "metadata": {},
   "outputs": [
    {
     "name": "stdout",
     "output_type": "stream",
     "text": [
      "Performing 10000 background trials using 5 cores:\n",
      "      10000/10000 trials complete.   \n",
      "\n",
      "0:00:28.537117 elapsed.\n"
     ]
    }
   ],
   "source": [
    "with time('ps bg trials'):\n",
    "    n_trials = 10000\n",
    "    bg = cy.dists.Chi2TSD(tr.get_many_fits(n_trials))"
   ]
  },
  {
   "cell_type": "code",
   "execution_count": 9,
   "metadata": {},
   "outputs": [
    {
     "data": {
      "image/png": "[encoded data removed]",
      "text/plain": [
       "<Figure size 432x288 with 1 Axes>"
      ]
     },
     "metadata": {
      "needs_background": "light"
     },
     "output_type": "display_data"
    }
   ],
   "source": [
    "fig, ax = plt.subplots()\n",
    "\n",
    "# csky uses histlite all over the place for PDF management\n",
    "# the background distribution fit integrates with histlite as well\n",
    "h = bg.get_hist(bins=50)\n",
    "hl.plot1d(ax, h, crosses=True,\n",
    "          label='{} bg trials'.format(bg.n_total))\n",
    "\n",
    "# compare with the chi2 fit:\n",
    "x = h.centers[0]\n",
    "norm = h.integrate().values\n",
    "ax.semilogy(x, norm * bg.pdf(x), lw=1, ls='--',\n",
    "            label=r'$\\chi^2[{:.2f}\\mathrm{{dof}},\\ \\eta={:.3f}]$'.format(bg.ndof, bg.eta))\n",
    "\n",
    "# always label your plots, folks\n",
    "ax.set_xlabel(r'TS')\n",
    "ax.set_ylabel(r'number of trials')\n",
    "ax.legend()\n",
    "plt.tight_layout()"
   ]
  },
  {
   "cell_type": "code",
   "execution_count": 10,
   "metadata": {},
   "outputs": [
    {
     "name": "stdout",
     "output_type": "stream",
     "text": [
      "Start time: 2020-07-15 17:59:37.891163\n",
      "Using 5 cores.\n",
      "* Starting initial scan for 90% of 50 trials with TS >= 0.056...\n",
      "  n_sig = 5.000 ... frac = 0.88000\n",
      "  n_sig = 10.000 ... frac = 0.98000\n",
      "* Generating batches of 500 trials...\n",
      "n_trials | n_inj    0.00    4.00    8.00   12.00   16.00   20.00  |  n_sig(relative error)\n",
      "500      |         47.6%   85.4%   96.4%   99.4%   99.6%  100.0%  |      5.205 (+/-  5.5%) [spline]\n",
      "1000     |         50.5%   86.6%   96.8%   99.4%   99.7%  100.0%  |      4.929 (+/-  3.7%) [spline]\n",
      "End time: 2020-07-15 18:00:09.756933\n",
      "Elapsed time: 0:00:31.865770\n",
      "\n",
      "0:00:31.867168 elapsed.\n"
     ]
    }
   ],
   "source": [
    "with time('ps sensitivity'):\n",
    "    sens = tr.find_n_sig(\n",
    "        # ts, threshold\n",
    "        bg.median(),\n",
    "        # beta, fraction of trials which should exceed the threshold\n",
    "        0.9,\n",
    "        # n_inj step size for initial scan\n",
    "        n_sig_step=5,\n",
    "        # this many trials at a time\n",
    "        batch_size=500,\n",
    "        # tolerance, as estimated relative error\n",
    "        tol=.05\n",
    "    )"
   ]
  },
  {
   "cell_type": "code",
   "execution_count": 11,
   "metadata": {},
   "outputs": [
    {
     "name": "stdout",
     "output_type": "stream",
     "text": [
      "Start time: 2020-07-15 18:00:09.768960\n",
      "Using 5 cores.\n",
      "* Starting initial scan for 50% of 50 trials with TS >= 26.587...\n",
      "  n_sig = 5.000 ... frac = 0.00000\n",
      "  n_sig = 10.000 ... frac = 0.00000\n",
      "  n_sig = 15.000 ... frac = 0.20000\n",
      "  n_sig = 20.000 ... frac = 0.44000\n",
      "  n_sig = 25.000 ... frac = 0.74000\n",
      "* Generating batches of 500 trials...\n",
      "n_trials | n_inj    0.00   10.00   20.00   30.00   40.00   50.00  |  n_sig(relative error)\n",
      "500      |          0.0%    6.4%   49.6%   91.8%   99.2%   99.8%  |     20.093 (+/-  2.5%) [spline]\n",
      "End time: 2020-07-15 18:00:28.338372\n",
      "Elapsed time: 0:00:18.569412\n",
      "\n",
      "0:00:18.572763 elapsed.\n"
     ]
    }
   ],
   "source": [
    "with time('ps discovery potential'):\n",
    "    disc = tr.find_n_sig(bg.isf_nsigma(5), 0.5, n_sig_step=5, batch_size=500, tol=.05)"
   ]
  },
  {
   "cell_type": "code",
   "execution_count": 12,
   "metadata": {},
   "outputs": [
    {
     "name": "stdout",
     "output_type": "stream",
     "text": [
      "4.928740107971437 20.09311396392415\n"
     ]
    }
   ],
   "source": [
    "print(sens['n_sig'], disc['n_sig'])"
   ]
  },
  {
   "cell_type": "code",
   "execution_count": 13,
   "metadata": {},
   "outputs": [
    {
     "name": "stdout",
     "output_type": "stream",
     "text": [
      "4.875e-12  TeV/cm2/s @ 100 TeV\n",
      "1.987e-11  TeV/cm2/s @ 100 TeV\n"
     ]
    }
   ],
   "source": [
    "fmt = '{:.3e}  TeV/cm2/s @ 100 TeV'\n",
    "# either the number of events or the whole dict will work\n",
    "print(fmt.format(tr.to_E2dNdE(sens, E0=100, unit=1e3)))\n",
    "print(fmt.format(tr.to_E2dNdE(disc['n_sig'], E0=100, unit=1e3)))"
   ]
  },
  {
   "cell_type": "code",
   "execution_count": 14,
   "metadata": {},
   "outputs": [
    {
     "name": "stdout",
     "output_type": "stream",
     "text": [
      "\n",
      "0:00:30.230758 elapsed.\n"
     ]
    }
   ],
   "source": [
    "n_sigs = np.r_[:101:10]\n",
    "with time('ps fit bias trials'):\n",
    "    trials = [tr.get_many_fits(500, n_sig=n_sig, logging=False, seed=n_sig) for n_sig in n_sigs]"
   ]
  },
  {
   "cell_type": "code",
   "execution_count": 15,
   "metadata": {},
   "outputs": [],
   "source": [
    "for (n_sig, t) in zip(n_sigs, trials):\n",
    "    t['ntrue'] = np.repeat(n_sig, len(t))"
   ]
  },
  {
   "cell_type": "code",
   "execution_count": 16,
   "metadata": {},
   "outputs": [
    {
     "data": {
      "text/plain": [
       "Arrays(5500 items | columns: gamma, ns, ntrue, ts)"
      ]
     },
     "execution_count": 16,
     "metadata": {},
     "output_type": "execute_result"
    }
   ],
   "source": [
    "allt = cy.utils.Arrays.concatenate(trials)\n",
    "allt"
   ]
  },
  {
   "cell_type": "code",
   "execution_count": 25,
   "metadata": {},
   "outputs": [],
   "source": [
    "?h.contain_projectct"
   ]
  },
  {
   "cell_type": "code",
   "execution_count": 17,
   "metadata": {},
   "outputs": [
    {
     "data": {
      "image/png": "[encoded data removed]",
      "text/plain": [
       "<Figure size 648x288 with 2 Axes>"
      ]
     },
     "metadata": {},
     "output_type": "display_data"
    }
   ],
   "source": [
    "fig, axs = plt.subplots(1, 2, figsize=(9,4))\n",
    "\n",
    "dns = np.mean(np.diff(n_sigs))\n",
    "ns_bins = np.r_[n_sigs - 0.5*dns, n_sigs[-1] + 0.5*dns]\n",
    "expect_kw = dict(color='C0', ls='--', lw=1, zorder=-10)\n",
    "expect_gamma = tr.sig_injs[0].flux[0].gamma\n",
    "\n",
    "ax = axs[0]\n",
    "h = hl.hist((allt.ntrue, allt.ns), bins=(ns_bins, 100))\n",
    "hl.plot1d(ax, h.contain_project(1),errorbands=True, drawstyle='default')\n",
    "\n",
    "lim = ns_bins[[0, -1]]\n",
    "ax.set_xlim(ax.set_ylim(lim))\n",
    "ax.plot(lim, lim, **expect_kw)\n",
    "ax.set_aspect('equal')\n",
    "\n",
    "\n",
    "ax = axs[1]\n",
    "h = hl.hist((allt.ntrue, allt.gamma), bins=(ns_bins, 100))\n",
    "hl.plot1d(ax, h.contain_project(1),errorbands=True, drawstyle='default')\n",
    "ax.axhline(expect_gamma, **expect_kw)\n",
    "ax.set_xlim(axs[0].get_xlim())\n",
    "\n",
    "for ax in axs:\n",
    "    ax.set_xlabel(r'$n_\\mathrm{inj}$')\n",
    "    ax.grid()\n",
    "axs[0].set_ylabel(r'$n_s$')\n",
    "axs[1].set_ylabel(r'$\\gamma$')\n",
    "\n",
    "fig.set_facecolor('w')\n",
    "plt.tight_layout()"
   ]
  },
  {
   "cell_type": "code",
   "execution_count": 18,
   "metadata": {},
   "outputs": [
    {
     "name": "stdout",
     "output_type": "stream",
     "text": [
      "[9.143492682998701, 32.296588674993224, 2.99528081900467]\n"
     ]
    }
   ],
   "source": [
    "result = ts, ns, gamma = tr.get_one_fit(TRUTH=True)\n",
    "print(result)"
   ]
  },
  {
   "cell_type": "code",
   "execution_count": 19,
   "metadata": {},
   "outputs": [
    {
     "name": "stdout",
     "output_type": "stream",
     "text": [
      "TS                  9.143492682998701\n",
      "ns                  32.296588674993224\n",
      "gamma               2.99528081900467\n"
     ]
    }
   ],
   "source": [
    "print(tr.format_result(tr.get_one_fit(TRUTH=True)))"
   ]
  },
  {
   "cell_type": "code",
   "execution_count": 20,
   "metadata": {},
   "outputs": [
    {
     "data": {
      "text/plain": [
       "(9.143492682998701, {'gamma': 2.99528081900467, 'ns': 32.296588674993224})"
      ]
     },
     "execution_count": 20,
     "metadata": {},
     "output_type": "execute_result"
    }
   ],
   "source": [
    "tr.get_one_fit(TRUTH=True, flat=False)"
   ]
  },
  {
   "cell_type": "code",
   "execution_count": 21,
   "metadata": {},
   "outputs": [
    {
     "data": {
      "text/plain": [
       "(9.143492682998701,\n",
       " {'gamma': 2.99528081900467, 'ns': 32.296588674993224},\n",
       " {},\n",
       " {'_full_output': True,\n",
       "  '_ns_min': 0,\n",
       "  '_ts_min': 0,\n",
       "  '_ns_tol': 0.0001,\n",
       "  '_taylor_tol': 0.001,\n",
       "  '_fit_null': False,\n",
       "  '_fmin_method': 'l_bfgs_b',\n",
       "  '_fmin_factr': 1000000000.0,\n",
       "  '_fmin_epsilon': 1e-08,\n",
       "  '_seed_with_prior': True,\n",
       "  '_seed_with_null': False,\n",
       "  '_log_params': [],\n",
       "  '_masks': None},\n",
       " {'grad': array([1.2434498e-06]),\n",
       "  'task': b'CONVERGENCE: NORM_OF_PROJECTED_GRADIENT_<=_PGTOL',\n",
       "  'funcalls': 10,\n",
       "  'nit': 3,\n",
       "  'warnflag': 0})"
      ]
     },
     "execution_count": 21,
     "metadata": {},
     "output_type": "execute_result"
    }
   ],
   "source": [
    "tr.get_one_fit(TRUTH=True, _full_output=True)"
   ]
  },
  {
   "cell_type": "code",
   "execution_count": 22,
   "metadata": {},
   "outputs": [
    {
     "data": {
      "text/plain": [
       "(6.5191821804467605, {'gamma': 2.5, 'ns': 16.26252619566328})"
      ]
     },
     "execution_count": 22,
     "metadata": {},
     "output_type": "execute_result"
    }
   ],
   "source": [
    "tr.get_one_fit(TRUTH=True, flat=False, gamma=[1.5, 2, 2.5])"
   ]
  },
  {
   "cell_type": "code",
   "execution_count": 23,
   "metadata": {},
   "outputs": [
    {
     "name": "stdout",
     "output_type": "stream",
     "text": [
      "p = 2.08e-03 (2.87 sigma)\n"
     ]
    }
   ],
   "source": [
    "print('p = {:.2e} ({:.2f} sigma)'.format(bg.sf(ts), bg.sf_nsigma(ts)))"
   ]
  },
  {
   "cell_type": "code",
   "execution_count": null,
   "metadata": {},
   "outputs": [],
   "source": []
  }
 ],
 "metadata": {
  "kernelspec": {
   "display_name": "Python 3",
   "language": "python",
   "name": "python3"
  },
  "language_info": {
   "codemirror_mode": {
    "name": "ipython",
    "version": 3
   },
   "file_extension": ".py",
   "mimetype": "text/x-python",
   "name": "python",
   "nbconvert_exporter": "python",
   "pygments_lexer": "ipython3",
   "version": "3.6.8"
  }
 },
 "nbformat": 4,
 "nbformat_minor": 2
}
